{
 "cells": [
  {
   "cell_type": "code",
   "execution_count": 1,
   "metadata": {},
   "outputs": [],
   "source": [
    "import tensorflow as tf\n",
    "import cv2 as cv\n",
    "import numpy as np\n",
    "import os\n",
    "from os.path import join\n",
    "import matplotlib.pyplot as plt\n",
    "#from functions import analyse\n",
    "from datetime import datetime as dt"
   ]
  },
  {
   "cell_type": "code",
   "execution_count": 2,
   "metadata": {},
   "outputs": [],
   "source": [
    "def frame_stamp():\n",
    "    current = dt.now()\n",
    "    out_str = (str(current.year) + str(current.month) + str(current.day) + \"_\" + \n",
    "               str(current.hour) + str(current.minute) + str(current.second) + \"_\" +\n",
    "               str(current.microsecond))\n",
    "    return out_str\n",
    "\n",
    "def load_labels():\n",
    "    fdir = \"labels\"\n",
    "    dataset = []\n",
    "    x = 0\n",
    "    none_count = 0\n",
    "    for file in os.listdir(fdir):\n",
    "        if file.endswith(\".jpg\"):\n",
    "            img = cv.imread(os.path.join(fdir,file), cv.IMREAD_UNCHANGED)\n",
    "            if not img is None:\n",
    "                img = pad(img)\n",
    "                if int(file[0]) == 0:    \n",
    "                    dataset.append([img,np.array([0,1])])\n",
    "                else:\n",
    "                    dataset.append([img,np.array([1,0])])\n",
    "            else:\n",
    "                none_count += 1\n",
    "            x += 1\n",
    "    print(\"None count: \", none_count)\n",
    "    return np.array(dataset)\n",
    "\n",
    "def pad(arr):\n",
    "    r = np.zeros((24,24,3))\n",
    "    r[:arr.shape[0],:arr.shape[1],:arr.shape[2]] = arr\n",
    "    return r\n",
    "\n",
    "def split_arr(arr, percent):\n",
    "    position = int(len(arr) * (1-percent))\n",
    "    train_data = arr[:position]\n",
    "    test_data = arr[position:]\n",
    "    return train_data, test_data"
   ]
  },
  {
   "cell_type": "code",
   "execution_count": 3,
   "metadata": {},
   "outputs": [
    {
     "name": "stdout",
     "output_type": "stream",
     "text": [
      "None count:  14\n",
      "Traing_data count:  1847\n",
      "Test_data count:  616\n"
     ]
    }
   ],
   "source": [
    "data = load_labels()\n",
    "np.random.shuffle(data)\n",
    "\n",
    "train_data, test_data = split_arr(data, 0.25)\n",
    "print(\"Traing_data count: \", len(train_data))\n",
    "print(\"Test_data count: \", len(test_data))\n",
    "\n",
    "n_classes = 2\n",
    "hm_epochs = 3\n",
    "\n",
    "x = tf.placeholder('float',[24,24,3])\n",
    "y = tf.placeholder('float')\n",
    "\n",
    "keep_rate = 0.8\n",
    "keep_prob = tf.placeholder(tf.float32)\n",
    "\n",
    "def conv2d(x, W):\n",
    "    return tf.nn.conv2d(x, W, strides=[1,1,1,1], padding='SAME')\n",
    "\n",
    "def maxpool2d(x):\n",
    "    #                          size of window    moment of window\n",
    "    return tf.nn.max_pool(x, ksize=[1,2,2,1], strides=[1,2,2,1],padding='SAME')"
   ]
  },
  {
   "cell_type": "code",
   "execution_count": 4,
   "metadata": {},
   "outputs": [],
   "source": [
    "def cnn_model(x):\n",
    "    # 5 x 5, 1 input, produces 32 features\n",
    "    weights = {'W_conv1':tf.Variable(tf.random_normal([5,5,3,32])),\n",
    "               'W_conv2':tf.Variable(tf.random_normal([5,5,32,64])),\n",
    "               'W_fc':tf.Variable(tf.random_normal([6*6*64, 1024])),\n",
    "               'out':tf.Variable(tf.random_normal([1024, n_classes]))}\n",
    "    \n",
    "    biases = {'b_conv1':tf.Variable(tf.random_normal([32])),\n",
    "              'b_conv2':tf.Variable(tf.random_normal([64])),\n",
    "              'b_fc':tf.Variable(tf.random_normal([1024])),\n",
    "              'out':tf.Variable(tf.random_normal([n_classes]))}\n",
    "    \n",
    "    x = tf.reshape(x, shape=[-1,24,24,3])\n",
    "    \n",
    "    conv1 = tf.nn.relu(conv2d(x, weights['W_conv1']) + biases['b_conv1'])\n",
    "    conv1 = maxpool2d(conv1)\n",
    "    \n",
    "    conv2 = tf.nn.relu(conv2d(conv1, weights['W_conv2']) + biases['b_conv2'])\n",
    "    conv2 = maxpool2d(conv2)\n",
    "    \n",
    "    fc = tf.reshape(conv2,[-1,6*6*64])\n",
    "    fc = tf.nn.relu(tf.matmul(fc, weights['W_fc']) + biases['b_fc'])\n",
    "    \n",
    "    fc = tf.nn.dropout(fc,keep_rate)\n",
    "    \n",
    "    output = tf.matmul(fc, weights['out']) + biases['out']\n",
    "    \n",
    "    return output"
   ]
  },
  {
   "cell_type": "code",
   "execution_count": 9,
   "metadata": {},
   "outputs": [],
   "source": [
    "def cnn_train(x, train_data, test_data, zero_catch=0, time_stamp = False):\n",
    "    print(x)\n",
    "    print(type(x))\n",
    "    prediction = cnn_model(x)\n",
    "    cost = tf.reduce_mean( tf.nn.softmax_cross_entropy_with_logits(logits=prediction, labels=y) )\n",
    "    optimizer = tf.train.AdamOptimizer().minimize(cost)\n",
    "    saver = tf.train.Saver()\n",
    "    \n",
    "    with tf.Session() as sess:\n",
    "        sess.run(tf.global_variables_initializer())\n",
    "        loss_plot = []\n",
    "        hm_zeros = 0\n",
    "        for epoch in range(hm_epochs):\n",
    "            epoch_loss = 0\n",
    "            for i in range(len(train_data)):\n",
    "                batch_x = train_data[i][0]\n",
    "                batch_y = train_data[i][1]\n",
    "                _, c = sess.run([optimizer, cost], feed_dict = {x: batch_x, y: batch_y})\n",
    "                epoch_loss += c\n",
    "            loss_plot.append(epoch_loss)\n",
    "            print('Epoch: ', epoch, ' completed out of: ', hm_epochs, ' loss: ', epoch_loss)\n",
    "            if (zero_catch > 0) and (epoch_loss == 0):\n",
    "                hm_zeros += 1\n",
    "                if hm_zeros == zero_catch:\n",
    "                    print(\"Reached zero catch of: \", zero_catch)\n",
    "                    break\n",
    "            elif (epoch_loss != 0):\n",
    "                hm_zeros = 0\n",
    "                \n",
    "        # Check how good model is\n",
    "        correct = tf.equal (tf.argmax(prediction,-1), tf.argmax(y,-1))\n",
    "        accuracy = tf.reduce_mean(tf.cast(correct,'float'))\n",
    "        acc = false_pos = false_neg = true_pos = true_neg = 0\n",
    "        for i in range(len(test_data)):\n",
    "            curr_acc = accuracy.eval({x:test_data[i,0], y:test_data[i,1]})\n",
    "            true_result =  test_data[i,1][0]\n",
    "            if true_result == 1 and curr_acc == 0:\n",
    "                false_neg += 1\n",
    "            elif true_result == 0 and curr_acc == 0:\n",
    "                false_pos += 1\n",
    "            elif true_result == 1 and curr_acc == 1:\n",
    "                true_pos += 1\n",
    "            elif true_result == 0 and curr_acc == 1:\n",
    "                true_neg += 1\n",
    "            acc += curr_acc\n",
    "        \n",
    "        #Save model to file\n",
    "        location = 'C:/Users/joear/OneDrive - Imperial College London/General/Code/Python/EDP/cnn_model/'\n",
    "        if time_stamp: save_path = saver.save(sess, location + \"current_model\")\n",
    "        else: save_path = saver.save(sess, location + \"current_model_\" + frame_stamp())\n",
    "        print(\"Model saved in path: %s\" % save_path)\n",
    "        \n",
    "        print(\"=======================================\")\n",
    "        print(\"Accuracy: \", acc/len(test_data)*100)\n",
    "        print(\"Tests: \", len(test_data))\n",
    "        print(\"Positive Sample: \", true_pos + false_neg)\n",
    "        print(\"Negative Sample: \", false_pos + true_neg)\n",
    "        print(\"Incorrect: \", false_pos + false_neg)\n",
    "        print(\"--------------------------------------\")\n",
    "        print(\"False Positives: \", false_pos)\n",
    "        print(\"False Negatives: \", false_neg)\n",
    "        print(\"True  Positives: \", true_pos)\n",
    "        print(\"True  Negatives: \", true_neg)\n",
    "        plt.plot(loss_plot)\n",
    "        plt.show()"
   ]
  },
  {
   "cell_type": "code",
   "execution_count": 10,
   "metadata": {},
   "outputs": [
    {
     "name": "stdout",
     "output_type": "stream",
     "text": [
      "Tensor(\"Placeholder:0\", shape=(24, 24, 3), dtype=float32)\n",
      "<class 'tensorflow.python.framework.ops.Tensor'>\n",
      "Epoch:  0  completed out of:  3  loss:  689442409.0\n",
      "Epoch:  1  completed out of:  3  loss:  196551874.469\n",
      "Epoch:  2  completed out of:  3  loss:  54932193.5781\n",
      "Model saved in path: C:/Users/joear/OneDrive - Imperial College London/General/Code/Python/EDP/cnn_model/current_model\n",
      "=======================================\n",
      "Accuracy:  98.8636363636\n",
      "Tests:  616\n",
      "Positive Sample:  285\n",
      "Negative Sample:  331\n",
      "Incorrect:  7\n",
      "--------------------------------------\n",
      "False Positives:  3\n",
      "False Negatives:  4\n",
      "True  Positives:  281\n",
      "True  Negatives:  328\n"
     ]
    },
    {
     "data": {
      "image/png": "[encoded data removed]",
      "text/plain": [
       "<matplotlib.figure.Figure at 0x2281697d0b8>"
      ]
     },
     "metadata": {},
     "output_type": "display_data"
    }
   ],
   "source": [
    "cnn_train(x, train_data, test_data, zero_catch=0, time_stamp=True)"
   ]
  },
  {
   "cell_type": "code",
   "execution_count": null,
   "metadata": {},
   "outputs": [],
   "source": []
  }
 ],
 "metadata": {
  "kernelspec": {
   "display_name": "Python 3",
   "language": "python",
   "name": "python3"
  },
  "language_info": {
   "codemirror_mode": {
    "name": "ipython",
    "version": 3
   },
   "file_extension": ".py",
   "mimetype": "text/x-python",
   "name": "python",
   "nbconvert_exporter": "python",
   "pygments_lexer": "ipython3",
   "version": "3.6.4"
  }
 },
 "nbformat": 4,
 "nbformat_minor": 2
}
