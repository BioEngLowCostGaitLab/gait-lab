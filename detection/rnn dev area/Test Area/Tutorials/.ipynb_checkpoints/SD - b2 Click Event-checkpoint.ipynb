{
 "cells": [
  {
   "cell_type": "code",
   "execution_count": 37,
   "metadata": {},
   "outputs": [],
   "source": [
    "import cv2 as cv\n",
    "import numpy as np"
   ]
  },
  {
   "cell_type": "code",
   "execution_count": 38,
   "metadata": {},
   "outputs": [],
   "source": [
    "def showVideo(file):\n",
    "    cap = cv.VideoCapture(file)\n",
    "    ret, frame = cap.read()\n",
    "    while ret:\n",
    "        #gray = cv.cvtColor(frame, cv.COLOR_BGR2GRAY)\n",
    "        cv.imshow(\"Video\", frame)\n",
    "        #cv.imshow(\"Grey\", gray)\n",
    "        if cv.waitKey(1) & 0xFF == ord('q'):\n",
    "            break\n",
    "        ret, frame = cap.read()\n",
    "\n",
    "    cap.release()\n",
    "    cv.destroyAllWindows()"
   ]
  },
  {
   "cell_type": "code",
   "execution_count": 39,
   "metadata": {},
   "outputs": [],
   "source": [
    "def showImage(file):\n",
    "    img = cv.imread(file,cv.IMREAD_GRAYSCALE)\n",
    "    cv.imshow('Image',img)\n",
    "    cv.waitKey(0)\n",
    "    cv.destroyAllWindows()"
   ]
  },
  {
   "cell_type": "code",
   "execution_count": 40,
   "metadata": {},
   "outputs": [],
   "source": [
    "showImage('will.jpg')"
   ]
  },
  {
   "cell_type": "code",
   "execution_count": 41,
   "metadata": {},
   "outputs": [],
   "source": [
    "showVideo('output.avi')"
   ]
  },
  {
   "cell_type": "code",
   "execution_count": 35,
   "metadata": {},
   "outputs": [],
   "source": [
    "cap = cv.VideoCapture('output.avi')\n",
    "ret, frame = cap.read()\n",
    "while ret:\n",
    "    cv.line(frame, (0,0), (150,150), (255,255,255), 5)\n",
    "    cv.imshow(\"Video\", frame)\n",
    "    \n",
    "    if cv.waitKey(1) & 0xFF == ord('q'):\n",
    "        break\n",
    "    ret, frame = cap.read()\n",
    "\n",
    "cap.release()\n",
    "cv.destroyAllWindows()"
   ]
  },
  {
   "cell_type": "code",
   "execution_count": 36,
   "metadata": {},
   "outputs": [],
   "source": [
    "img = cv.imread('will.jpg',cv.IMREAD_COLOR)\n",
    "#             start  end        colour BGR   width\n",
    "cv.line(img, (0,0), (150,150), (255,255,255), 5)\n",
    "#                  top left   bottom right  colour     width\n",
    "cv.rectangle(img, (200,150), (400,350), (255,255,255), 5)\n",
    "#               center   radius   colour     width/fill = -1\n",
    "cv.circle(img, (100,63), 55, (255,255,255), -1)\n",
    "\n",
    "pts = np.array([[10,5],[20,400],[70,200],[50,10]], np.int32)\n",
    "pts = pts.reshape((-1,1,2))\n",
    "cv.polylines(img, [pts], True, (0,255,255), 3)\n",
    "\n",
    "font = cv.FONT_HERSHEY_SIMPLEX\n",
    "cv.putText(img, 'Hi Joe', (0,130), font, 1, (200,255,255), 2, cv.LINE_AA)\n",
    "\n",
    "cv.imshow('Image',img)\n",
    "cv.waitKey(0)\n",
    "cv.destroyAllWindows()"
   ]
  },
  {
   "cell_type": "code",
   "execution_count": null,
   "metadata": {},
   "outputs": [],
   "source": []
  }
 ],
 "metadata": {
  "kernelspec": {
   "display_name": "Python 3",
   "language": "python",
   "name": "python3"
  },
  "language_info": {
   "codemirror_mode": {
    "name": "ipython",
    "version": 3
   },
   "file_extension": ".py",
   "mimetype": "text/x-python",
   "name": "python",
   "nbconvert_exporter": "python",
   "pygments_lexer": "ipython3",
   "version": "3.6.4"
  }
 },
 "nbformat": 4,
 "nbformat_minor": 2
}
