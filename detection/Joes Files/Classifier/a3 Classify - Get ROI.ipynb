{
 "cells": [
  {
   "cell_type": "code",
   "execution_count": 1,
   "metadata": {},
   "outputs": [],
   "source": [
    "import cv2 as cv\n",
    "import numpy as np"
   ]
  },
  {
   "cell_type": "code",
   "execution_count": 2,
   "metadata": {},
   "outputs": [],
   "source": [
    "move_frame = False\n",
    "pts = []\n",
    "def next_frame(event,x,y,flags,param):\n",
    "    if event == cv.EVENT_LBUTTONDOWN:\n",
    "        global pts\n",
    "        pts = []\n",
    "        pts.append(x)\n",
    "        pts.append(y)\n",
    "    \n",
    "    elif event == cv.EVENT_LBUTTONUP:\n",
    "        if (pts[0] < x) or (pts[1] < y):\n",
    "            pts.append(x)\n",
    "            pts.append(y)\n",
    "            global move_frame\n",
    "            move_frame = True\n",
    "        else:\n",
    "            print(\"error\")"
   ]
  },
  {
   "cell_type": "code",
   "execution_count": 8,
   "metadata": {},
   "outputs": [],
   "source": [
    "cap = cv.VideoCapture('output.avi')\n",
    "ret, frame = cap.read()\n",
    "clone = frame.copy()\n",
    "cv.namedWindow(\"Video\")\n",
    "cv.setMouseCallback(\"Video\", next_frame)\n",
    "\n",
    "while ret:\n",
    "    cv.imshow(\"Video\", clone)\n",
    "    if cv.waitKey(1) & 0xFF == ord('q'):\n",
    "        break\n",
    "    if (move_frame):\n",
    "        ret, clone = cap.read()\n",
    "        move_frame = False\n",
    "        \n",
    "        roi = clone[pts[1]:pts[3], pts[0]:pts[2]]\n",
    "        cv.imshow(\"ROI\", roi)\n",
    "        cv.waitKey(0)\n",
    "        cv.destroyWindow(\"ROI\")\n",
    "    \n",
    "cap.release()\n",
    "cv.destroyAllWindows()"
   ]
  },
  {
   "cell_type": "code",
   "execution_count": null,
   "metadata": {},
   "outputs": [],
   "source": []
  }
 ],
 "metadata": {
  "kernelspec": {
   "display_name": "Python 3",
   "language": "python",
   "name": "python3"
  },
  "language_info": {
   "codemirror_mode": {
    "name": "ipython",
    "version": 3
   },
   "file_extension": ".py",
   "mimetype": "text/x-python",
   "name": "python",
   "nbconvert_exporter": "python",
   "pygments_lexer": "ipython3",
   "version": "3.6.4"
  }
 },
 "nbformat": 4,
 "nbformat_minor": 2
}
