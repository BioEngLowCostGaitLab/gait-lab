{
 "cells": [
  {
   "cell_type": "code",
   "execution_count": 7,
   "metadata": {},
   "outputs": [],
   "source": [
    "import cv2 as cv\n",
    "import numpy as np"
   ]
  },
  {
   "cell_type": "code",
   "execution_count": 8,
   "metadata": {},
   "outputs": [],
   "source": [
    "move_frame = False\n",
    "def next_frame(event,x,y,flags,param):\n",
    "    if event == cv.EVENT_LBUTTONDOWN:\n",
    "        print(x,y)\n",
    "        global move_frame\n",
    "        move_frame = True"
   ]
  },
  {
   "cell_type": "code",
   "execution_count": null,
   "metadata": {},
   "outputs": [
    {
     "name": "stdout",
     "output_type": "stream",
     "text": [
      "376 283\n",
      "376 283\n",
      "306 287\n",
      "310 290\n",
      "310 290\n",
      "310 290\n",
      "310 290\n",
      "310 290\n",
      "310 290\n",
      "310 290\n",
      "310 290\n",
      "310 290\n",
      "310 290\n",
      "303 287\n",
      "303 287\n",
      "303 287\n",
      "303 287\n",
      "301 290\n",
      "299 290\n",
      "299 290\n",
      "299 290\n",
      "299 290\n",
      "299 290\n",
      "295 293\n",
      "295 293\n",
      "295 293\n",
      "295 293\n",
      "295 293\n",
      "295 293\n",
      "295 293\n",
      "295 293\n"
     ]
    }
   ],
   "source": [
    "cap = cv.VideoCapture('output.avi')\n",
    "ret, frame = cap.read()\n",
    "clone = frame.copy()\n",
    "cv.namedWindow(\"Video\")\n",
    "cv.setMouseCallback(\"Video\", next_frame)\n",
    "\n",
    "while ret:\n",
    "    cv.imshow(\"Video\", clone)\n",
    "    if cv.waitKey(1) & 0xFF == ord('q'):\n",
    "        break\n",
    "    if (move_frame):\n",
    "        ret, clone = cap.read()\n",
    "        #global move_frame\n",
    "        move_frame = False\n",
    "\n",
    "cap.release()\n",
    "cv.destroyAllWindows()"
   ]
  },
  {
   "cell_type": "code",
   "execution_count": null,
   "metadata": {},
   "outputs": [],
   "source": []
  }
 ],
 "metadata": {
  "kernelspec": {
   "display_name": "Python 3",
   "language": "python",
   "name": "python3"
  },
  "language_info": {
   "codemirror_mode": {
    "name": "ipython",
    "version": 3
   },
   "file_extension": ".py",
   "mimetype": "text/x-python",
   "name": "python",
   "nbconvert_exporter": "python",
   "pygments_lexer": "ipython3",
   "version": "3.6.4"
  }
 },
 "nbformat": 4,
 "nbformat_minor": 2
}
