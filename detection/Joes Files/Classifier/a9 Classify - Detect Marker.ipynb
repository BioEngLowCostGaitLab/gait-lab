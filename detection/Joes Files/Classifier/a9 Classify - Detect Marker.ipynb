{
 "cells": [
  {
   "cell_type": "code",
   "execution_count": 27,
   "metadata": {},
   "outputs": [],
   "source": [
    "import cv2 as cv\n",
    "import numpy as np\n",
    "from functions import analyse\n",
    "import os\n",
    "from os.path import join\n",
    "\n",
    "from datetime import datetime as dt\n",
    "def frame_stamp():\n",
    "    current = dt.now()\n",
    "    out_str = (str(current.year) + str(current.month) + str(current.day) + \"_\" + \n",
    "               str(current.hour) + str(current.minute) + str(current.second) + \"_\" +\n",
    "               \"frame\")\n",
    "    return out_str\n",
    "\n",
    "\n",
    "ssd = cv.dnn.readNetFromCaffe(join(os.getcwd(), 'resources', 'MobileNetSSD_deploy.prototxt'), \n",
    "                          join(os.getcwd(), 'resources', 'MobileNetSSD_deploy.caffemodel'))\n",
    "classifier = cv.dnn.readNetFromTensorflow(join(os.getcwd(), 'frozen_model.pb'))\n",
    "detector = cv.xfeatures2d.SURF_create(2000)\n",
    "detector.setUpright(True)"
   ]
  },
  {
   "cell_type": "code",
   "execution_count": 28,
   "metadata": {},
   "outputs": [],
   "source": [
    "move_frame = False\n",
    "pts = []\n",
    "def next_frame(event,x,y,flags,param):\n",
    "    if event == cv.EVENT_LBUTTONDOWN:\n",
    "        global pts\n",
    "        pts = []\n",
    "        pts.append(x)\n",
    "        pts.append(y)\n",
    "\n",
    "    elif event == cv.EVENT_LBUTTONUP:\n",
    "        if (pts[0] < x) or (pts[1] < y):\n",
    "            pts.append(x)\n",
    "            pts.append(y)\n",
    "            global move_frame\n",
    "            move_frame = True"
   ]
  },
  {
   "cell_type": "code",
   "execution_count": 29,
   "metadata": {},
   "outputs": [],
   "source": [
    "def classify(file = 'resources/test_video.mp4', width = 960, height = 540, flip = True):\n",
    "    cap = cv.VideoCapture(file)\n",
    "    ret, frame = cap.read()\n",
    "    clone = frame.copy()\n",
    "    clone = cv.resize(clone, (width,height))\n",
    "    if(flip): clone = cv.flip(clone, 0)\n",
    "    cv.namedWindow(\"Video\")\n",
    "    cv.setMouseCallback(\"Video\", next_frame)\n",
    "    global move_frame\n",
    "    threshold = 2000\n",
    "    \n",
    "    ## Loop to classify Images\n",
    "    while ret:\n",
    "        cv.imshow(\"Video\", clone)\n",
    "        key = cv.waitKey(1)\n",
    "        \n",
    "        skip = False\n",
    "        if (key == 113):\n",
    "            break\n",
    "        if (key == 46):\n",
    "            skip = True\n",
    "        \n",
    "        ## When image is classified or frame is skipped\n",
    "        if (move_frame or skip):\n",
    "            ret, clone = cap.read()\n",
    "            clone = cv.resize(clone, (width,height))\n",
    "            if(flip): clone = cv.flip(clone, 0)\n",
    "            if (move_frame):\n",
    "                move_frame = False\n",
    "                roi = clone[pts[1]:pts[3], pts[0]:pts[2]]\n",
    "                global detector\n",
    "                keypoints, detector, threshold, startX, endX = analyse(clone, ssd, classifier, detector, 0,\n",
    "                                                            threshold, use_classifier=False)\n",
    "                for i in range(len(keypoints)):\n",
    "                    x_img = int(keypoints[0].pt[0])\n",
    "                    y_img = int(keypoints[0].pt[1])\n",
    "                    pt_img = clone[x_img-10:x_img+10, y_img-10:y_img+10]\n",
    "                    cv.imshow(\"ROI Pt\", pt_img)\n",
    "                    cv.waitKey(0)\n",
    "                    cv.destroyWindow(\"ROI Pt\")\n",
    "                print(\"Keypoints: \", keypoints[0].pt)\n",
    "                print(\"detector: \", detector)\n",
    "                print(\"threshold: \", threshold)\n",
    "                print(\"startX: \", startX)\n",
    "                print(\"endX: \", endX)\n",
    "                cv.imshow(\"ROI\", roi)\n",
    "                cv.imwrite(\"./labels/\" + frame_stamp() + \".jpg\", roi)\n",
    "                cv.waitKey(0)\n",
    "                cv.destroyWindow(\"ROI\")\n",
    "\n",
    "    cap.release()\n",
    "    cv.destroyAllWindows()"
   ]
  },
  {
   "cell_type": "code",
   "execution_count": 30,
   "metadata": {},
   "outputs": [],
   "source": [
    "def play_video(file = 'resources/test_video.mp4', width = 960, height = 540, flip = True):\n",
    "    cap = cv.VideoCapture(file)\n",
    "    ret, frame = cap.read()\n",
    "    #(h,w) = frame.shape[:2]\n",
    "    clone = cv.resize(frame, (width,height))\n",
    "    if(flip): clone = cv.flip(clone, 0)\n",
    "    while ret:\n",
    "        cv.imshow(\"Input\", clone)\n",
    "        if cv.waitKey(1) & 0xFF == ord('q'):\n",
    "            break\n",
    "        ret, frame = cap.read()\n",
    "        clone = cv.resize(frame, (width,height))\n",
    "        if(flip): clone = cv.flip(clone, 0)\n",
    "    cap.release()\n",
    "    cv.destroyAllWindows()"
   ]
  },
  {
   "cell_type": "code",
   "execution_count": 31,
   "metadata": {},
   "outputs": [
    {
     "name": "stdout",
     "output_type": "stream",
     "text": [
      "[INFO] p: 88.39%\n",
      "7\n",
      "confidence: 0.883892\n",
      "Keypoints:  (354.54193115234375, 538.1771850585938)\n",
      "detector:  <xfeatures2d_SURF 000001F2C1C17B70>\n",
      "threshold:  2000\n",
      "startX:  148\n",
      "endX:  506\n"
     ]
    }
   ],
   "source": [
    "classify()"
   ]
  },
  {
   "cell_type": "code",
   "execution_count": null,
   "metadata": {},
   "outputs": [],
   "source": []
  }
 ],
 "metadata": {
  "kernelspec": {
   "display_name": "Python 3",
   "language": "python",
   "name": "python3"
  },
  "language_info": {
   "codemirror_mode": {
    "name": "ipython",
    "version": 3
   },
   "file_extension": ".py",
   "mimetype": "text/x-python",
   "name": "python",
   "nbconvert_exporter": "python",
   "pygments_lexer": "ipython3",
   "version": "3.6.4"
  }
 },
 "nbformat": 4,
 "nbformat_minor": 2
}
