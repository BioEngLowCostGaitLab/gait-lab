{
 "cells": [
  {
   "cell_type": "code",
   "execution_count": 1,
   "metadata": {},
   "outputs": [],
   "source": [
    "import tensorflow as tf\n",
    "import matplotlib.pyplot as plt\n",
    "%matplotlib inline"
   ]
  },
  {
   "cell_type": "code",
   "execution_count": 2,
   "metadata": {},
   "outputs": [
    {
     "name": "stdout",
     "output_type": "stream",
     "text": [
      "Extracting tmp/data/train-images-idx3-ubyte.gz\n",
      "Extracting tmp/data/train-labels-idx1-ubyte.gz\n",
      "Extracting tmp/data/t10k-images-idx3-ubyte.gz\n",
      "Extracting tmp/data/t10k-labels-idx1-ubyte.gz\n"
     ]
    }
   ],
   "source": [
    "from tensorflow.examples.tutorials.mnist import input_data\n",
    "from tensorflow.contrib import rnn \n",
    "mnist = input_data.read_data_sets(\"tmp/data/\", one_hot=True)"
   ]
  },
  {
   "cell_type": "code",
   "execution_count": 15,
   "metadata": {},
   "outputs": [],
   "source": [
    "tf.reset_default_graph()\n",
    "\n",
    "hm_epochs = 50\n",
    "n_classes = 10\n",
    "batch_size = 128\n",
    "\n",
    "chunk_size = 28\n",
    "n_chunks = 28\n",
    "\n",
    "rnn_size = 128\n",
    "\n",
    "x = tf.placeholder('float',[None,n_chunks,chunk_size])\n",
    "y = tf.placeholder('float')\n",
    "\n",
    "\n",
    "def rnn_model(x):\n",
    "    layer = {'weights':tf.Variable(tf.random_normal([rnn_size, n_classes])),\n",
    "             'biases' :tf.Variable(tf.random_normal([n_classes]))}\n",
    "    \n",
    "    x = tf.transpose(x, [1,0,2])\n",
    "    x = tf.reshape(x, [-1, chunk_size])\n",
    "    x = tf.split(x,n_chunks,0)\n",
    "    \n",
    "    lstm_cell = rnn.BasicLSTMCell(rnn_size) \n",
    "    outputs, states = rnn.static_rnn(lstm_cell, x, dtype=tf.float32)\n",
    "    \n",
    "    output = tf.add( tf.matmul(outputs[-1], layer['weights']) , layer['biases'])\n",
    "    \n",
    "    return output\n",
    "\n",
    "\n",
    "def rnn_train(x):\n",
    "    prediction = rnn_model(x)\n",
    "    cost = tf.reduce_mean( tf.nn.softmax_cross_entropy_with_logits(logits=prediction, labels=y) )\n",
    "    optimizer = tf.train.AdamOptimizer().minimize(cost)\n",
    "    ep_loss = []\n",
    "    with tf.Session() as sess:\n",
    "        sess.run(tf.global_variables_initializer())\n",
    "        \n",
    "        for epoch in range(hm_epochs):\n",
    "            epoch_loss = 0;\n",
    "            for _ in range( int(mnist.train.num_examples/batch_size) ):\n",
    "                epoch_x, epoch_y = mnist.train.next_batch( batch_size )\n",
    "                epoch_x = epoch_x.reshape((batch_size, n_chunks,chunk_size))\n",
    "                _, c = sess.run([optimizer, cost], feed_dict = {x: epoch_x, y: epoch_y})\n",
    "                epoch_loss += c\n",
    "            ep_loss .append(epoch_loss)\n",
    "            print('Epoch: ', epoch, ' completed out of: ', hm_epochs, ' loss: ', epoch_loss)\n",
    "            \n",
    "            \n",
    "        ## Check how good model is\n",
    "        correct = tf.equal (tf.argmax(prediction,1), tf.argmax(y,1))\n",
    "        accuracy = tf.reduce_mean(tf.cast(correct,'float'))\n",
    "        print('Accuracy: ',accuracy.eval({x:mnist.test.images.reshape((-1, n_chunks, chunk_size)), y:mnist.test.labels}))\n",
    "        plt.plot(ep_loss)"
   ]
  },
  {
   "cell_type": "code",
   "execution_count": 16,
   "metadata": {},
   "outputs": [
    {
     "name": "stdout",
     "output_type": "stream",
     "text": [
      "Epoch:  0  completed out of:  50  loss:  194.554999776\n",
      "Epoch:  1  completed out of:  50  loss:  56.1549380012\n",
      "Epoch:  2  completed out of:  50  loss:  39.2864133501\n",
      "Epoch:  3  completed out of:  50  loss:  30.3782144524\n",
      "Epoch:  4  completed out of:  50  loss:  24.1369350129\n",
      "Epoch:  5  completed out of:  50  loss:  20.5185409174\n",
      "Epoch:  6  completed out of:  50  loss:  17.0410661108\n",
      "Epoch:  7  completed out of:  50  loss:  16.0505791996\n",
      "Epoch:  8  completed out of:  50  loss:  13.3276822991\n",
      "Epoch:  9  completed out of:  50  loss:  11.9920238373\n",
      "Epoch:  10  completed out of:  50  loss:  10.9898613783\n",
      "Epoch:  11  completed out of:  50  loss:  9.14972923696\n",
      "Epoch:  12  completed out of:  50  loss:  9.50527428539\n",
      "Epoch:  13  completed out of:  50  loss:  9.20446793029\n",
      "Epoch:  14  completed out of:  50  loss:  6.94771047933\n",
      "Epoch:  15  completed out of:  50  loss:  6.70474715548\n",
      "Epoch:  16  completed out of:  50  loss:  6.26526452746\n",
      "Epoch:  17  completed out of:  50  loss:  6.49223195188\n",
      "Epoch:  18  completed out of:  50  loss:  5.21812446864\n",
      "Epoch:  19  completed out of:  50  loss:  5.86605276332\n",
      "Epoch:  20  completed out of:  50  loss:  5.35152742782\n",
      "Epoch:  21  completed out of:  50  loss:  4.28985045469\n",
      "Epoch:  22  completed out of:  50  loss:  3.53695692002\n",
      "Epoch:  23  completed out of:  50  loss:  4.4516916874\n",
      "Epoch:  24  completed out of:  50  loss:  4.71170507041\n",
      "Epoch:  25  completed out of:  50  loss:  3.84981353359\n",
      "Epoch:  26  completed out of:  50  loss:  2.65140172626\n",
      "Epoch:  27  completed out of:  50  loss:  4.02257277928\n",
      "Epoch:  28  completed out of:  50  loss:  4.63994768871\n",
      "Epoch:  29  completed out of:  50  loss:  2.19416129683\n",
      "Epoch:  30  completed out of:  50  loss:  2.66134290533\n",
      "Epoch:  31  completed out of:  50  loss:  2.94711209649\n",
      "Epoch:  32  completed out of:  50  loss:  2.91144742625\n",
      "Epoch:  33  completed out of:  50  loss:  2.01086502923\n",
      "Epoch:  34  completed out of:  50  loss:  3.23728682659\n",
      "Epoch:  35  completed out of:  50  loss:  2.62278027619\n",
      "Epoch:  36  completed out of:  50  loss:  2.30524336046\n",
      "Epoch:  37  completed out of:  50  loss:  2.01498592794\n",
      "Epoch:  38  completed out of:  50  loss:  2.74357433518\n",
      "Epoch:  39  completed out of:  50  loss:  0.622245038051\n",
      "Epoch:  40  completed out of:  50  loss:  0.199395855537\n",
      "Epoch:  41  completed out of:  50  loss:  2.79985103908\n",
      "Epoch:  42  completed out of:  50  loss:  5.21241024523\n",
      "Epoch:  43  completed out of:  50  loss:  1.01695877369\n",
      "Epoch:  44  completed out of:  50  loss:  1.33878499545\n",
      "Epoch:  45  completed out of:  50  loss:  1.91730536669\n",
      "Epoch:  46  completed out of:  50  loss:  2.43681951464\n",
      "Epoch:  47  completed out of:  50  loss:  2.41665400775\n",
      "Epoch:  48  completed out of:  50  loss:  1.03354765689\n",
      "Epoch:  49  completed out of:  50  loss:  0.26429638629\n",
      "Accuracy:  0.9894\n"
     ]
    },
    {
     "data": {
      "image/png": "[encoded data removed]",
      "text/plain": [
       "<matplotlib.figure.Figure at 0x13fdf57f978>"
      ]
     },
     "metadata": {},
     "output_type": "display_data"
    }
   ],
   "source": [
    "rnn_train(x)"
   ]
  },
  {
   "cell_type": "code",
   "execution_count": null,
   "metadata": {},
   "outputs": [],
   "source": []
  }
 ],
 "metadata": {
  "kernelspec": {
   "display_name": "Python 3",
   "language": "python",
   "name": "python3"
  },
  "language_info": {
   "codemirror_mode": {
    "name": "ipython",
    "version": 3
   },
   "file_extension": ".py",
   "mimetype": "text/x-python",
   "name": "python",
   "nbconvert_exporter": "python",
   "pygments_lexer": "ipython3",
   "version": "3.6.4"
  }
 },
 "nbformat": 4,
 "nbformat_minor": 2
}
