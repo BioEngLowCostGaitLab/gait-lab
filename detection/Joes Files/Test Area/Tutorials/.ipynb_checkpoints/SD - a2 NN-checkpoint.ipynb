{
 "cells": [
  {
   "cell_type": "code",
   "execution_count": 2,
   "metadata": {},
   "outputs": [],
   "source": [
    "import tensorflow as tf"
   ]
  },
  {
   "cell_type": "code",
   "execution_count": 3,
   "metadata": {},
   "outputs": [
    {
     "name": "stdout",
     "output_type": "stream",
     "text": [
      "Extracting tmp/data/train-images-idx3-ubyte.gz\n",
      "Extracting tmp/data/train-labels-idx1-ubyte.gz\n",
      "Extracting tmp/data/t10k-images-idx3-ubyte.gz\n",
      "Extracting tmp/data/t10k-labels-idx1-ubyte.gz\n"
     ]
    }
   ],
   "source": [
    "from tensorflow.examples.tutorials.mnist import input_data\n",
    "\n",
    "mnist = input_data.read_data_sets(\"tmp/data/\", one_hot=True)"
   ]
  },
  {
   "cell_type": "code",
   "execution_count": 4,
   "metadata": {},
   "outputs": [],
   "source": [
    "n_nodes_hl1 = 500\n",
    "n_nodes_hl2 = 500\n",
    "n_nodes_hl3 = 500\n",
    "\n",
    "n_classes = 10\n",
    "batch_size = 100\n",
    "\n",
    "x = tf.placeholder('float',[None,784])\n",
    "y = tf.placeholder('float')"
   ]
  },
  {
   "cell_type": "code",
   "execution_count": 5,
   "metadata": {},
   "outputs": [],
   "source": [
    "def nn_model(data):\n",
    "    hidden_1_layer = {'weights':tf.Variable(tf.random_normal([784, n_nodes_hl1])),\n",
    "                      'biases' :tf.Variable(tf.random_normal([n_nodes_hl1]))}\n",
    "    \n",
    "    hidden_2_layer = {'weights':tf.Variable(tf.random_normal([n_nodes_hl1, n_nodes_hl2])),\n",
    "                      'biases' :tf.Variable(tf.random_normal([n_nodes_hl2]))}\n",
    "    \n",
    "    hidden_3_layer = {'weights':tf.Variable(tf.random_normal([n_nodes_hl2, n_nodes_hl3])),\n",
    "                      'biases' :tf.Variable(tf.random_normal([n_nodes_hl3]))}\n",
    "    \n",
    "    output_layer = {'weights':tf.Variable(tf.random_normal([n_nodes_hl3, n_classes])),\n",
    "                    'biases' :tf.Variable(tf.random_normal([n_classes]))}\n",
    "    \n",
    "    l1 = tf.add( tf.matmul(data, hidden_1_layer['weights']) , hidden_1_layer['biases'])\n",
    "    l1 = tf.nn.relu(l1)\n",
    "    \n",
    "    l2 = tf.add( tf.matmul(l1, hidden_2_layer['weights']) , hidden_2_layer['biases'])\n",
    "    l2 = tf.nn.relu(l2)\n",
    "    \n",
    "    l3 = tf.add( tf.matmul(l2, hidden_3_layer['weights']) , hidden_3_layer['biases'])\n",
    "    l3 = tf.nn.relu(l3)\n",
    "    \n",
    "    output = tf.add( tf.matmul(l3, output_layer['weights']) , output_layer['biases'])\n",
    "    \n",
    "    return output"
   ]
  },
  {
   "cell_type": "code",
   "execution_count": 6,
   "metadata": {},
   "outputs": [],
   "source": [
    "def nn_train(x):\n",
    "    prediction = nn_model(x)\n",
    "    cost = tf.reduce_mean( tf.nn.softmax_cross_entropy_with_logits(logits=prediction, labels=y) )\n",
    "    optimizer = tf.train.AdamOptimizer().minimize(cost)\n",
    "    \n",
    "    hm_epochs = 50\n",
    "    \n",
    "    with tf.Session() as sess:\n",
    "        sess.run(tf.global_variables_initializer())\n",
    "        \n",
    "        for epoch in range(hm_epochs):\n",
    "            epoch_loss = 0;\n",
    "            for _ in range( int(mnist.train.num_examples/batch_size) ):\n",
    "                epoch_x, epoch_y = mnist.train.next_batch( batch_size )\n",
    "                _, c = sess.run([optimizer, cost], feed_dict = {x: epoch_x, y: epoch_y})\n",
    "                epoch_loss += c\n",
    "            print('Epoch: ', epoch, ' completed out of: ', hm_epochs, ' loss: ', epoch_loss)\n",
    "            \n",
    "            \n",
    "        ## Check how good model is\n",
    "        correct = tf.equal (tf.argmax(prediction,1), tf.argmax(y,1))\n",
    "        accuracy = tf.reduce_mean(tf.cast(correct,'float'))\n",
    "        print('Accuracy: ',accuracy.eval({x:mnist.test.images, y:mnist.test.labels}))\n",
    "            "
   ]
  },
  {
   "cell_type": "code",
   "execution_count": 7,
   "metadata": {},
   "outputs": [
    {
     "name": "stdout",
     "output_type": "stream",
     "text": [
      "Epoch:  0  completed out of:  50  loss:  1514943.26953\n",
      "Epoch:  1  completed out of:  50  loss:  381762.88281\n",
      "Epoch:  2  completed out of:  50  loss:  207674.14506\n",
      "Epoch:  3  completed out of:  50  loss:  121643.193684\n",
      "Epoch:  4  completed out of:  50  loss:  76261.1338988\n",
      "Epoch:  5  completed out of:  50  loss:  46858.8970308\n",
      "Epoch:  6  completed out of:  50  loss:  30537.2303954\n",
      "Epoch:  7  completed out of:  50  loss:  22630.5033437\n",
      "Epoch:  8  completed out of:  50  loss:  18215.7451867\n",
      "Epoch:  9  completed out of:  50  loss:  16340.7994782\n",
      "Epoch:  10  completed out of:  50  loss:  14355.7591934\n",
      "Epoch:  11  completed out of:  50  loss:  15915.6952537\n",
      "Epoch:  12  completed out of:  50  loss:  16302.9920713\n",
      "Epoch:  13  completed out of:  50  loss:  11292.1882563\n",
      "Epoch:  14  completed out of:  50  loss:  11200.2982918\n",
      "Epoch:  15  completed out of:  50  loss:  12120.8228512\n",
      "Epoch:  16  completed out of:  50  loss:  11189.8995942\n",
      "Epoch:  17  completed out of:  50  loss:  9517.17663219\n",
      "Epoch:  18  completed out of:  50  loss:  9494.67441706\n",
      "Epoch:  19  completed out of:  50  loss:  8391.69340427\n",
      "Epoch:  20  completed out of:  50  loss:  10404.8788728\n",
      "Epoch:  21  completed out of:  50  loss:  8398.94999491\n",
      "Epoch:  22  completed out of:  50  loss:  8205.1357083\n",
      "Epoch:  23  completed out of:  50  loss:  8397.043088\n",
      "Epoch:  24  completed out of:  50  loss:  7368.43569504\n",
      "Epoch:  25  completed out of:  50  loss:  7115.47698775\n",
      "Epoch:  26  completed out of:  50  loss:  7733.93147434\n",
      "Epoch:  27  completed out of:  50  loss:  6416.91043852\n",
      "Epoch:  28  completed out of:  50  loss:  5913.09069914\n",
      "Epoch:  29  completed out of:  50  loss:  6876.65497951\n",
      "Epoch:  30  completed out of:  50  loss:  5941.83825295\n",
      "Epoch:  31  completed out of:  50  loss:  5674.60785566\n",
      "Epoch:  32  completed out of:  50  loss:  6797.21561551\n",
      "Epoch:  33  completed out of:  50  loss:  6573.98879325\n",
      "Epoch:  34  completed out of:  50  loss:  4101.44434927\n",
      "Epoch:  35  completed out of:  50  loss:  5319.89231646\n",
      "Epoch:  36  completed out of:  50  loss:  3876.98185288\n",
      "Epoch:  37  completed out of:  50  loss:  5079.24021924\n",
      "Epoch:  38  completed out of:  50  loss:  5781.83733648\n",
      "Epoch:  39  completed out of:  50  loss:  4497.8207323\n",
      "Epoch:  40  completed out of:  50  loss:  4854.49947593\n",
      "Epoch:  41  completed out of:  50  loss:  4821.94280366\n",
      "Epoch:  42  completed out of:  50  loss:  5504.95639253\n",
      "Epoch:  43  completed out of:  50  loss:  5558.94544065\n",
      "Epoch:  44  completed out of:  50  loss:  3618.80412394\n",
      "Epoch:  45  completed out of:  50  loss:  4127.95189053\n",
      "Epoch:  46  completed out of:  50  loss:  5083.64506749\n",
      "Epoch:  47  completed out of:  50  loss:  3322.78774906\n",
      "Epoch:  48  completed out of:  50  loss:  3631.70184528\n",
      "Epoch:  49  completed out of:  50  loss:  5386.69556608\n",
      "Accuracy:  0.9702\n"
     ]
    }
   ],
   "source": [
    "nn_train(x)"
   ]
  },
  {
   "cell_type": "code",
   "execution_count": null,
   "metadata": {},
   "outputs": [],
   "source": []
  }
 ],
 "metadata": {
  "kernelspec": {
   "display_name": "Python 3",
   "language": "python",
   "name": "python3"
  },
  "language_info": {
   "codemirror_mode": {
    "name": "ipython",
    "version": 3
   },
   "file_extension": ".py",
   "mimetype": "text/x-python",
   "name": "python",
   "nbconvert_exporter": "python",
   "pygments_lexer": "ipython3",
   "version": "3.6.4"
  }
 },
 "nbformat": 4,
 "nbformat_minor": 2
}
