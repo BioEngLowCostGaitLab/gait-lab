{
 "cells": [
  {
   "cell_type": "code",
   "execution_count": 1,
   "metadata": {},
   "outputs": [],
   "source": [
    "import tensorflow as tf\n",
    "import cv2 as cv\n",
    "import numpy as np\n",
    "import os\n",
    "from os.path import join\n",
    "import matplotlib.pyplot as plt"
   ]
  },
  {
   "cell_type": "code",
   "execution_count": 2,
   "metadata": {},
   "outputs": [],
   "source": [
    "def load_labels():\n",
    "    fdir = \"labels\"\n",
    "    dataset = []\n",
    "    x = 0\n",
    "    none_count = 0\n",
    "    for file in os.listdir(fdir):\n",
    "        if file.endswith(\".jpg\"):\n",
    "            img = cv.imread(os.path.join(fdir,file), cv.IMREAD_UNCHANGED)\n",
    "            if not img is None:\n",
    "                img = pad(img)\n",
    "                if int(file[0]) == 0:    \n",
    "                    dataset.append([img,np.array([0,1])])\n",
    "                else:\n",
    "                    dataset.append([img,np.array([1,0])])\n",
    "            else:\n",
    "                none_count += 1\n",
    "            x += 1\n",
    "    print(\"None count: \", none_count)\n",
    "    return np.array(dataset)\n",
    "\n",
    "def pad(arr):\n",
    "    r = np.zeros((24,24,3))\n",
    "    r[:arr.shape[0],:arr.shape[1],:arr.shape[2]] = arr\n",
    "    return r\n",
    "\n",
    "def split_arr(arr, percent):\n",
    "    position = int(len(arr) * (1-percent))\n",
    "    train_data = arr[:position]\n",
    "    test_data = arr[position:]\n",
    "    return train_data, test_data"
   ]
  },
  {
   "cell_type": "code",
   "execution_count": 3,
   "metadata": {},
   "outputs": [
    {
     "name": "stdout",
     "output_type": "stream",
     "text": [
      "None count:  14\n"
     ]
    }
   ],
   "source": [
    "data = load_labels()\n",
    "np.random.shuffle(data)\n",
    "\n",
    "train_data, test_data = split_arr(data, 0.4)\n",
    "\n",
    "n_classes = 2\n",
    "hm_epochs = 50\n",
    "\n",
    "x = tf.placeholder('float',[24,24,3])\n",
    "y = tf.placeholder('float')\n",
    "\n",
    "keep_rate = 0.65\n",
    "keep_prob = tf.placeholder(tf.float32)\n",
    "\n",
    "def conv2d(x, W):\n",
    "    return tf.nn.conv2d(x, W, strides=[1,1,1,1], padding='SAME')\n",
    "\n",
    "def maxpool2d(x):\n",
    "    #                          size of window    moment of window\n",
    "    return tf.nn.max_pool(x, ksize=[1,2,2,1], strides=[1,2,2,1],padding='SAME')"
   ]
  },
  {
   "cell_type": "code",
   "execution_count": 4,
   "metadata": {},
   "outputs": [],
   "source": [
    "def cnn_model(x):\n",
    "    # 5 x 5, 1 input, produces 32 features\n",
    "    weights = {'W_conv1':tf.Variable(tf.random_normal([5,5,3,32])),\n",
    "               'W_conv2':tf.Variable(tf.random_normal([5,5,32,64])),\n",
    "               'W_fc':tf.Variable(tf.random_normal([6*6*64, 1024])),\n",
    "               'out':tf.Variable(tf.random_normal([1024, n_classes]))}\n",
    "    \n",
    "    biases = {'b_conv1':tf.Variable(tf.random_normal([32])),\n",
    "              'b_conv2':tf.Variable(tf.random_normal([64])),\n",
    "              'b_fc':tf.Variable(tf.random_normal([1024])),\n",
    "              'out':tf.Variable(tf.random_normal([n_classes]))}\n",
    "    \n",
    "    x = tf.reshape(x, shape=[-1,24,24,3])\n",
    "    \n",
    "    conv1 = tf.nn.relu(conv2d(x, weights['W_conv1']) + biases['b_conv1'])\n",
    "    conv1 = maxpool2d(conv1)\n",
    "    \n",
    "    conv2 = tf.nn.relu(conv2d(conv1, weights['W_conv2']) + biases['b_conv2'])\n",
    "    conv2 = maxpool2d(conv2)\n",
    "    \n",
    "    fc = tf.reshape(conv2,[-1,6*6*64])\n",
    "    fc = tf.nn.relu(tf.matmul(fc, weights['W_fc']) + biases['b_fc'])\n",
    "    \n",
    "    fc = tf.nn.dropout(fc,keep_rate)\n",
    "    \n",
    "    output = tf.matmul(fc, weights['out']) + biases['out']\n",
    "    \n",
    "    return output"
   ]
  },
  {
   "cell_type": "code",
   "execution_count": 5,
   "metadata": {},
   "outputs": [],
   "source": [
    "def cnn_train(x, train_data, test_data):    \n",
    "    prediction = cnn_model(x)\n",
    "    cost = tf.reduce_mean( tf.nn.softmax_cross_entropy_with_logits(logits=prediction, labels=y) )\n",
    "    optimizer = tf.train.AdamOptimizer().minimize(cost)\n",
    "    \n",
    "    with tf.Session() as sess:\n",
    "        sess.run(tf.global_variables_initializer())\n",
    "        loss_plot = []\n",
    "        for epoch in range(hm_epochs):\n",
    "            epoch_loss = 0;\n",
    "            \n",
    "            for i in range(len(train_data)):\n",
    "                batch_x = train_data[i][0]\n",
    "                batch_y = train_data[i][1]\n",
    "                _, c = sess.run([optimizer, cost], feed_dict = {x: batch_x, y: batch_y})\n",
    "                epoch_loss += c\n",
    "            loss_plot.append(epoch_loss)\n",
    "            print('Epoch: ', epoch, ' completed out of: ', hm_epochs, ' loss: ', epoch_loss)\n",
    "            \n",
    "        # Check how good model is\n",
    "        correct = tf.equal (tf.argmax(prediction,-1), tf.argmax(y,-1))\n",
    "        accuracy = tf.reduce_mean(tf.cast(correct,'float'))\n",
    "        acc = 0;\n",
    "        for i in range(len(test_data)):\n",
    "            acc += accuracy.eval({x:test_data[i,0], y:test_data[i,1]})\n",
    "        print(\"Accuracy: \", (acc/len(test_data) * 100))\n",
    "        plt.plot(loss_plot)\n",
    "        plt.show()"
   ]
  },
  {
   "cell_type": "code",
   "execution_count": 6,
   "metadata": {},
   "outputs": [
    {
     "name": "stdout",
     "output_type": "stream",
     "text": [
      "Epoch:  0  completed out of:  50  loss:  914012039.438\n",
      "Epoch:  1  completed out of:  50  loss:  241108604.063\n",
      "Epoch:  2  completed out of:  50  loss:  84423830.377\n",
      "Epoch:  3  completed out of:  50  loss:  53690978.1406\n",
      "Epoch:  4  completed out of:  50  loss:  28696389.0\n",
      "Epoch:  5  completed out of:  50  loss:  60555635.0625\n",
      "Epoch:  6  completed out of:  50  loss:  22741353.125\n",
      "Epoch:  7  completed out of:  50  loss:  9585352.4375\n",
      "Epoch:  8  completed out of:  50  loss:  33589573.2422\n",
      "Epoch:  9  completed out of:  50  loss:  4411417.74219\n",
      "Epoch:  10  completed out of:  50  loss:  677151.25\n",
      "Epoch:  11  completed out of:  50  loss:  14981210.4375\n",
      "Epoch:  12  completed out of:  50  loss:  17268023.2813\n",
      "Epoch:  13  completed out of:  50  loss:  7597472.5\n",
      "Epoch:  14  completed out of:  50  loss:  4693661.25\n",
      "Epoch:  15  completed out of:  50  loss:  9768509.64063\n",
      "Epoch:  16  completed out of:  50  loss:  14458361.9766\n",
      "Epoch:  17  completed out of:  50  loss:  4583030.375\n",
      "Epoch:  18  completed out of:  50  loss:  6453352.375\n",
      "Epoch:  19  completed out of:  50  loss:  682787.3125\n",
      "Epoch:  20  completed out of:  50  loss:  4943533.4375\n",
      "Epoch:  21  completed out of:  50  loss:  7856978.79688\n",
      "Epoch:  22  completed out of:  50  loss:  10429495.8594\n",
      "Epoch:  23  completed out of:  50  loss:  631688.75\n",
      "Epoch:  24  completed out of:  50  loss:  0.0\n",
      "Epoch:  25  completed out of:  50  loss:  8276999.90625\n",
      "Epoch:  26  completed out of:  50  loss:  5170704.5\n",
      "Epoch:  27  completed out of:  50  loss:  0.0\n",
      "Epoch:  28  completed out of:  50  loss:  0.0\n",
      "Epoch:  29  completed out of:  50  loss:  2330789.0\n",
      "Epoch:  30  completed out of:  50  loss:  808383.71875\n",
      "Epoch:  31  completed out of:  50  loss:  4786757.8125\n",
      "Epoch:  32  completed out of:  50  loss:  6149855.25\n",
      "Epoch:  33  completed out of:  50  loss:  4993162.75\n",
      "Epoch:  34  completed out of:  50  loss:  0.0\n",
      "Epoch:  35  completed out of:  50  loss:  1028898.21875\n",
      "Epoch:  36  completed out of:  50  loss:  2048617.0\n",
      "Epoch:  37  completed out of:  50  loss:  1424362.0625\n",
      "Epoch:  38  completed out of:  50  loss:  5035718.5625\n",
      "Epoch:  39  completed out of:  50  loss:  790761.9375\n",
      "Epoch:  40  completed out of:  50  loss:  415706.28125\n",
      "Epoch:  41  completed out of:  50  loss:  4267507.25\n",
      "Epoch:  42  completed out of:  50  loss:  3858477.0\n",
      "Epoch:  43  completed out of:  50  loss:  0.0\n",
      "Epoch:  44  completed out of:  50  loss:  0.0\n",
      "Epoch:  45  completed out of:  50  loss:  0.0\n",
      "Epoch:  46  completed out of:  50  loss:  806269.375\n",
      "Epoch:  47  completed out of:  50  loss:  6134230.84375\n",
      "Epoch:  48  completed out of:  50  loss:  2041075.0625\n",
      "Epoch:  49  completed out of:  50  loss:  1832845.5625\n",
      "Accuracy:  99.7596153846\n"
     ]
    },
    {
     "data": {
      "image/png": "[encoded data removed]",
      "text/plain": [
       "<matplotlib.figure.Figure at 0x20279f9f668>"
      ]
     },
     "metadata": {},
     "output_type": "display_data"
    }
   ],
   "source": [
    "cnn_train(x, train_data, test_data)"
   ]
  },
  {
   "cell_type": "code",
   "execution_count": null,
   "metadata": {},
   "outputs": [],
   "source": []
  }
 ],
 "metadata": {
  "kernelspec": {
   "display_name": "Python 3",
   "language": "python",
   "name": "python3"
  },
  "language_info": {
   "codemirror_mode": {
    "name": "ipython",
    "version": 3
   },
   "file_extension": ".py",
   "mimetype": "text/x-python",
   "name": "python",
   "nbconvert_exporter": "python",
   "pygments_lexer": "ipython3",
   "version": "3.6.4"
  }
 },
 "nbformat": 4,
 "nbformat_minor": 2
}
