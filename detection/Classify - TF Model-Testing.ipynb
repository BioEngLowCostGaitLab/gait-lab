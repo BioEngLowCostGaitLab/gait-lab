{
 "cells": [
  {
   "cell_type": "code",
   "execution_count": 68,
   "metadata": {},
   "outputs": [],
   "source": [
    "import tensorflow as tf\n",
    "import cv2 as cv\n",
    "import numpy as np\n",
    "import os\n",
    "from os.path import join"
   ]
  },
  {
   "cell_type": "code",
   "execution_count": 69,
   "metadata": {},
   "outputs": [],
   "source": [
    "def load_labels():\n",
    "    fdir = \"labels\"\n",
    "    dataset = []\n",
    "    x = 0\n",
    "    none_count = 0\n",
    "    for file in os.listdir(fdir):\n",
    "        if file.endswith(\".jpg\"):\n",
    "            img = cv.imread(os.path.join(fdir,file), cv.IMREAD_UNCHANGED)\n",
    "            if not img is None:\n",
    "                img = pad(img)\n",
    "                if int(file[0]) == 0:    \n",
    "                    dataset.append([img,np.array([0,1])])\n",
    "                else:\n",
    "                    dataset.append([img,np.array([1,0])])\n",
    "            else:\n",
    "                none_count += 1\n",
    "            x += 1\n",
    "    print(\"None count: \", none_count)\n",
    "    return np.array(dataset)\n",
    "\n",
    "def pad(arr):\n",
    "    r = np.zeros((24,24,3))\n",
    "    r[:arr.shape[0],:arr.shape[1],:arr.shape[2]] = arr\n",
    "    return r\n",
    "\n",
    "def split_arr(arr, percent):\n",
    "    position = int(len(arr) * (1-percent))\n",
    "    train_data = arr[:position]\n",
    "    test_data = arr[position:]\n",
    "    return train_data, test_data"
   ]
  },
  {
   "cell_type": "code",
   "execution_count": 70,
   "metadata": {},
   "outputs": [
    {
     "name": "stdout",
     "output_type": "stream",
     "text": [
      "None count:  14\n"
     ]
    }
   ],
   "source": [
    "data = load_labels()\n",
    "np.random.shuffle(data)\n",
    "\n",
    "train_data, test_data = split_arr(data, 0.1)\n",
    "\n",
    "n_classes = 2\n",
    "#batch_size = 128\n",
    "hm_epochs = 20\n",
    "\n",
    "x = tf.placeholder('float',[24,24,3])\n",
    "y = tf.placeholder('float')\n",
    "\n",
    "keep_rate = 0.8\n",
    "keep_prob = tf.placeholder(tf.float32)\n",
    "\n",
    "def conv2d(x, W):\n",
    "    return tf.nn.conv2d(x, W, strides=[1,1,1,1], padding='SAME')\n",
    "\n",
    "def maxpool2d(x):\n",
    "    #                          size of window    moment of window\n",
    "    return tf.nn.max_pool(x, ksize=[1,2,2,1], strides=[1,2,2,1],padding='SAME')"
   ]
  },
  {
   "cell_type": "code",
   "execution_count": 71,
   "metadata": {},
   "outputs": [],
   "source": [
    "def cnn_model(x):\n",
    "    # 5 x 5, 1 input, produces 32 features\n",
    "    weights = {'W_conv1':tf.Variable(tf.random_normal([5,5,3,32])),\n",
    "               'W_conv2':tf.Variable(tf.random_normal([5,5,32,64])),\n",
    "               'W_fc':tf.Variable(tf.random_normal([6*6*64, 1024])),\n",
    "               'out':tf.Variable(tf.random_normal([1024, n_classes]))}\n",
    "    \n",
    "    biases = {'b_conv1':tf.Variable(tf.random_normal([32])),\n",
    "              'b_conv2':tf.Variable(tf.random_normal([64])),\n",
    "              'b_fc':tf.Variable(tf.random_normal([1024])),\n",
    "              'out':tf.Variable(tf.random_normal([n_classes]))}\n",
    "    \n",
    "    x = tf.reshape(x, shape=[-1,24,24,3])\n",
    "    \n",
    "    conv1 = tf.nn.relu(conv2d(x, weights['W_conv1']) + biases['b_conv1'])\n",
    "    conv1 = maxpool2d(conv1)\n",
    "    \n",
    "    conv2 = tf.nn.relu(conv2d(conv1, weights['W_conv2']) + biases['b_conv2'])\n",
    "    conv2 = maxpool2d(conv2)\n",
    "    \n",
    "    fc = tf.reshape(conv2,[-1,6*6*64])\n",
    "    fc = tf.nn.relu(tf.matmul(fc, weights['W_fc']) + biases['b_fc'])\n",
    "    \n",
    "    fc = tf.nn.dropout(fc,keep_rate)\n",
    "    \n",
    "    output = tf.matmul(fc, weights['out']) + biases['out']\n",
    "    \n",
    "    return output"
   ]
  },
  {
   "cell_type": "code",
   "execution_count": 72,
   "metadata": {},
   "outputs": [],
   "source": [
    "def cnn_train(x, train_data, test_data):    \n",
    "    prediction = cnn_model(x)\n",
    "    cost = tf.reduce_mean( tf.nn.softmax_cross_entropy_with_logits(logits=prediction, labels=y) )\n",
    "    optimizer = tf.train.AdamOptimizer().minimize(cost)\n",
    "    \n",
    "    with tf.Session() as sess:\n",
    "        sess.run(tf.global_variables_initializer())\n",
    "        \n",
    "        for epoch in range(hm_epochs):\n",
    "            epoch_loss = 0;\n",
    "            \n",
    "            for i in range(len(train_data)):\n",
    "                batch_x = train_data[i][0]\n",
    "                batch_y = train_data[i][1]\n",
    "                _, c = sess.run([optimizer, cost], feed_dict = {x: batch_x, y: batch_y})\n",
    "                epoch_loss += c\n",
    "            print('Epoch: ', epoch, ' completed out of: ', hm_epochs, ' loss: ', epoch_loss)\n",
    "            \n",
    "        # Check how good model is\n",
    "        correct = tf.equal (tf.argmax(prediction,-1), tf.argmax(y,-1))\n",
    "        accuracy = tf.reduce_mean(tf.cast(correct,'float'))\n",
    "        acc = 0;\n",
    "        for i in range(len(test_data)):\n",
    "            acc += accuracy.eval({x:test_data[i,0], y:test_data[i,1]})\n",
    "        print(\"Accuracy: \", (acc/len(test_data) * 100))"
   ]
  },
  {
   "cell_type": "code",
   "execution_count": 73,
   "metadata": {},
   "outputs": [
    {
     "name": "stdout",
     "output_type": "stream",
     "text": [
      "Epoch:  0  completed out of:  20  loss:  455480721.125\n",
      "Epoch:  1  completed out of:  20  loss:  89134172.75\n",
      "Epoch:  2  completed out of:  20  loss:  100487355.563\n",
      "Epoch:  3  completed out of:  20  loss:  53037319.375\n",
      "Epoch:  4  completed out of:  20  loss:  12133129.9219\n",
      "Epoch:  5  completed out of:  20  loss:  13858845.25\n",
      "Epoch:  6  completed out of:  20  loss:  44116078.0\n",
      "Epoch:  7  completed out of:  20  loss:  0.0\n",
      "Epoch:  8  completed out of:  20  loss:  0.0\n",
      "Epoch:  9  completed out of:  20  loss:  0.0\n",
      "Epoch:  10  completed out of:  20  loss:  0.0\n",
      "Epoch:  11  completed out of:  20  loss:  0.0\n",
      "Epoch:  12  completed out of:  20  loss:  0.0\n",
      "Epoch:  13  completed out of:  20  loss:  0.0\n",
      "Epoch:  14  completed out of:  20  loss:  0.0\n",
      "Epoch:  15  completed out of:  20  loss:  0.0\n",
      "Epoch:  16  completed out of:  20  loss:  47599261.0\n",
      "Epoch:  17  completed out of:  20  loss:  1561944.375\n",
      "Epoch:  18  completed out of:  20  loss:  0.0\n",
      "Epoch:  19  completed out of:  20  loss:  0.0\n",
      "Accuracy:  100.0\n"
     ]
    }
   ],
   "source": [
    "cnn_train(x, train_data, test_data)"
   ]
  },
  {
   "cell_type": "code",
   "execution_count": null,
   "metadata": {},
   "outputs": [],
   "source": []
  }
 ],
 "metadata": {
  "kernelspec": {
   "display_name": "Python 3",
   "language": "python",
   "name": "python3"
  },
  "language_info": {
   "codemirror_mode": {
    "name": "ipython",
    "version": 3
   },
   "file_extension": ".py",
   "mimetype": "text/x-python",
   "name": "python",
   "nbconvert_exporter": "python",
   "pygments_lexer": "ipython3",
   "version": "3.6.4"
  }
 },
 "nbformat": 4,
 "nbformat_minor": 2
}
