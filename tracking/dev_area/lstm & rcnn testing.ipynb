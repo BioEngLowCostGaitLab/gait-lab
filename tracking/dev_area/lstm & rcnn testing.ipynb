{
 "cells": [
  {
   "cell_type": "code",
   "execution_count": 1,
   "metadata": {},
   "outputs": [
    {
     "name": "stderr",
     "output_type": "stream",
     "text": [
      "c:\\users\\joear\\appdata\\local\\programs\\python\\python36\\lib\\site-packages\\h5py\\__init__.py:36: FutureWarning: Conversion of the second argument of issubdtype from `float` to `np.floating` is deprecated. In future, it will be treated as `np.float64 == np.dtype(float).type`.\n",
      "  from ._conv import register_converters as _register_converters\n",
      "Using TensorFlow backend.\n"
     ]
    }
   ],
   "source": [
    "import os\n",
    "from os.path import join\n",
    "import sys\n",
    "import cv2 as cv\n",
    "import numpy as np\n",
    "from numpy.random import RandomState\n",
    "import pickle\n",
    "import matplotlib.pyplot as plt\n",
    "\n",
    "import keras\n",
    "from keras.models import Sequential\n",
    "from keras.callbacks import EarlyStopping\n",
    "from keras.layers import Dense, Dropout, Flatten\n",
    "from keras.layers import Conv2D, MaxPooling2D\n",
    "from keras import regularizers\n",
    "from keras import backend as K"
   ]
  },
  {
   "cell_type": "code",
   "execution_count": 2,
   "metadata": {},
   "outputs": [],
   "source": [
    "def pad(arr):\n",
    "    \"\"\" Pads an image if taken near the edge \"\"\"\n",
    "    r = np.zeros((24,24,3))\n",
    "    r[:arr.shape[0],:arr.shape[1],:arr.shape[2]] = arr\n",
    "    return r"
   ]
  },
  {
   "cell_type": "code",
   "execution_count": 3,
   "metadata": {},
   "outputs": [],
   "source": [
    "def random_np(x_np, y_np):\n",
    "    \"\"\" randomises a numpy array \"\"\"\n",
    "    prng = RandomState(0)\n",
    "    randomise = prng.permutation(x_np.shape[0])\n",
    "    return x_np[randomise], y_np[randomise]"
   ]
  },
  {
   "cell_type": "code",
   "execution_count": 4,
   "metadata": {},
   "outputs": [],
   "source": [
    "def split_np(x_data, y_data, percent):\n",
    "    \"\"\" splits a numpy array into testing and training \"\"\"\n",
    "    position = int(len(x_data) * (1-percent))\n",
    "    x_train, x_test = x_data[:position], x_data[position:]\n",
    "    y_train, y_test = y_data[:position], y_data[position:]\n",
    "    return x_train, y_train, x_test, y_test"
   ]
  },
  {
   "cell_type": "code",
   "execution_count": 16,
   "metadata": {},
   "outputs": [],
   "source": [
    "def load_data(randomise=True):\n",
    "    \"\"\" Loads in image data as numpy arrays \"\"\"\n",
    "    x_values = []\n",
    "    y_values = []\n",
    "    none_count = 0 \n",
    "    filedir = join(os.getcwd(),\"..\",\"labels\")\n",
    "    \"\"\"\n",
    "    for file in os.listdir(filedir):\n",
    "        if file.endswith(\".jpg\"):\n",
    "            img = cv.imread(join(filedir,file), cv.IMREAD_UNCHANGED)\n",
    "            if not img is None:\n",
    "                img = pad(img)\n",
    "                x_values.append(img.tolist())\n",
    "                if int(file[0]) == 0:    \n",
    "                    y_values.append([0,1])\n",
    "                else:\n",
    "                    y_values.append([1,0])    \n",
    "            else:\n",
    "                none_count += 1\n",
    "    if none_count > 0:\n",
    "        print(\"None count: \", none_count)\n",
    "    x_np = np.array(x_values)\n",
    "    y_np = np.array(y_values)\n",
    "    x_np, y_np = random_np(x_np, y_np)\n",
    "    return x_np, y_np"
   ]
  },
  {
   "cell_type": "code",
   "execution_count": 17,
   "metadata": {},
   "outputs": [],
   "source": [
    "x_np, y_np = load_data(True)\n",
    "x_train, y_train, x_test, y_test = split_np(x_np, y_np,0.2)"
   ]
  },
  {
   "cell_type": "code",
   "execution_count": null,
   "metadata": {},
   "outputs": [],
   "source": [
    "def ld_2():\n",
    "    x_values = []\n",
    "    y_values = []\n",
    "    x = 0\n",
    "    none_count = 0   \n",
    "    for file in os.listdir(fdir):\n",
    "        if file.endswith(\".jpg\"):\n",
    "            img = cv.imread(os.path.join(fdir,file), cv.IMREAD_UNCHANGED)\n",
    "            if not img is None:\n",
    "                img = pad(img)\n",
    "                x_values.append(img)\n",
    "                if int(file[0]) == 0:    \n",
    "                    y_values.append([0,1])\n",
    "                else:\n",
    "                    y_values.append([1,0])               \n",
    "            else:\n",
    "                none_count += 1\n",
    "            x += 1\n",
    "    print(\"None count: \", none_count)\n",
    "    shape = list(x_values[0].shape)\n",
    "    shape[:0] = [len(x_values)]\n",
    "    x_np = np.concatenate(x_values).reshape(shape)\n",
    "\n",
    "    \n",
    "    y_np = np.array(y_values)\n",
    "    x_np, y_np = random_np(x_np, y_np)\n",
    "    return x_np, y_np"
   ]
  }
 ],
 "metadata": {
  "kernelspec": {
   "display_name": "Python 3",
   "language": "python",
   "name": "python3"
  },
  "language_info": {
   "codemirror_mode": {
    "name": "ipython",
    "version": 3
   },
   "file_extension": ".py",
   "mimetype": "text/x-python",
   "name": "python",
   "nbconvert_exporter": "python",
   "pygments_lexer": "ipython3",
   "version": "3.6.4"
  }
 },
 "nbformat": 4,
 "nbformat_minor": 2
}
