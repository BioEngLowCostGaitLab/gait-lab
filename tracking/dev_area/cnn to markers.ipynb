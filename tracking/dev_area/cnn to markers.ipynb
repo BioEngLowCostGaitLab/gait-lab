{
 "cells": [
  {
   "cell_type": "code",
   "execution_count": 1,
   "metadata": {},
   "outputs": [
    {
     "name": "stderr",
     "output_type": "stream",
     "text": [
      "c:\\users\\joear\\appdata\\local\\programs\\python\\python36\\lib\\site-packages\\h5py\\__init__.py:36: FutureWarning: Conversion of the second argument of issubdtype from `float` to `np.floating` is deprecated. In future, it will be treated as `np.float64 == np.dtype(float).type`.\n",
      "  from ._conv import register_converters as _register_converters\n",
      "Using TensorFlow backend.\n"
     ]
    }
   ],
   "source": [
    "import os\n",
    "from os.path import join\n",
    "import sys\n",
    "import cv2 as cv\n",
    "import numpy as np\n",
    "from numpy.random import RandomState\n",
    "import pickle\n",
    "import matplotlib.pyplot as plt\n",
    "\n",
    "import keras\n",
    "from keras.models import Sequential\n",
    "from keras.layers import Dense, Dropout, Flatten\n",
    "from keras.layers import Conv2D, MaxPooling2D\n",
    "from keras import regularizers\n",
    "from keras import backend as K\n",
    "from keras.callbacks import EarlyStopping, ModelCheckpoint"
   ]
  },
  {
   "cell_type": "code",
   "execution_count": 2,
   "metadata": {},
   "outputs": [],
   "source": [
    "def load_labels(specific_video=None):\n",
    "    \"\"\" Loads in image data as numpy arrays \"\"\"\n",
    "    sequence = []\n",
    "    none_count = 0 \n",
    "    filedir = join(os.getcwd(),\"labels\")\n",
    "    for file in os.listdir(filedir):\n",
    "        ## change current seq when video_id change or marker number changes\n",
    "        if file.endswith(\".jpg\"):\n",
    "            file = file.split(\".\")[0]\n",
    "            file = file.split(\"_\")\n",
    "            if specific_video == None:\n",
    "                video_id, marker_num, marker_type, frame_num, x_pos, y_pos = file[0], int(file[1]), int(file[2]), int(file[3]), int(file[4]), int(file[5])\n",
    "                current_seq = [video_id, marker_num, marker_type, frame_num, x_pos, y_pos]\n",
    "                sequence.append(current_seq)\n",
    "            else:\n",
    "                if file[0] == video_id:\n",
    "                    video_id, marker_num, marker_type, frame_num, x_pos, y_pos = file[0], int(file[1]), int(file[2]), int(file[3]), int(file[4]), int(file[5])\n",
    "                    current_seq = [video_id, marker_num, marker_type, frame_num, x_pos, y_pos]#, dist]\n",
    "                    sequence.append(current_seq)\n",
    "    return sequence"
   ]
  },
  {
   "cell_type": "code",
   "execution_count": 3,
   "metadata": {},
   "outputs": [],
   "source": [
    "def sort_labels(sequence):\n",
    "    sequence.sort(key=lambda x: x[3]) ## Sort by frame number\n",
    "    sequence.sort(key=lambda x: x[1]) ## Sort by marker_num\n",
    "    sequence.sort(key=lambda x: x[0]) ## Sort by video_name\n",
    "    return sequence"
   ]
  },
  {
   "cell_type": "code",
   "execution_count": 4,
   "metadata": {},
   "outputs": [],
   "source": [
    "def assign_labels(sequence):\n",
    "    ##  ball change or vid change\n",
    "    prev_vid_id, prev_marker_num = sequence[0][0][0], sequence[0][0][1]\n",
    "    for idx, seq in enumerate(sequence):\n",
    "        vid_id, marker_num = seq[0], seq[1]\n",
    "        if (vid_id != prev_vid_id) or (marker_num != prev_marker_num):\n",
    "            prev_vid_id, prev_marker_num = vid_id, marker_num\n",
    "            prev_coords, prev_frame_num = np.array([-1,-1]), -1\n",
    "        frame_num, x_pos, y_pos = seq[3], seq[4], seq[5]\n",
    "        current_coords = np.array([x_pos, y_pos])\n",
    "        if (prev_coords[0] == -1) & (prev_coords[1] == -1):\n",
    "            dist = -1\n",
    "        else:\n",
    "            dist = np.linalg.norm(current_coords - prev_coords)\n",
    "        if (prev_frame_num == -1):\n",
    "            frame_diff = -1\n",
    "        else:\n",
    "            frame_diff = frame_num - prev_frame_num\n",
    "        prev_coords = current_coords\n",
    "        prev_frame_num = frame_num\n",
    "        sequence[idx].append(dist)\n",
    "        sequence[idx].append(frame_diff)\n",
    "    return sequence"
   ]
  },
  {
   "cell_type": "code",
   "execution_count": 5,
   "metadata": {},
   "outputs": [],
   "source": [
    "def load_video(video_path, video_name, flip, display = False): ## Convert 3rd element in video name into flip\n",
    "    width, height = 960, 540\n",
    "    cap = cv.VideoCapture(join(video_path,video_name))\n",
    "    ret, frame = cap.read()\n",
    "    if (flip):\n",
    "        frame = cv.flip(frame, 0)\n",
    "    clone = cv.resize(frame, (width,height))\n",
    "    if (display):\n",
    "        cv.namedWindow(\"Video\")\n",
    "    frame_num = 0\n",
    "    frames = []\n",
    "    while (ret):\n",
    "        if (display):\n",
    "            cv.imshow(\"Video\", clone)\n",
    "        frames.append( [frame, frame_num] )\n",
    "        if (display):\n",
    "            key = cv.waitKey(0)\n",
    "            if key == 113:\n",
    "                break\n",
    "        ret, frame = cap.read()\n",
    "        if (ret):\n",
    "            frame_num += 1\n",
    "            if (flip):\n",
    "                frame = cv.flip(frame, 0)\n",
    "            clone = cv.resize(frame, (width, height))\n",
    "    cap.release()\n",
    "    if (display):\n",
    "        cv.destroyAllWindows()\n",
    "    return frames"
   ]
  },
  {
   "cell_type": "code",
   "execution_count": 6,
   "metadata": {},
   "outputs": [],
   "source": [
    "def load_data_and_labels(sequence, vid_format=\".avi\"):\n",
    "    print(\"Loading videos\")\n",
    "    filedir = join(os.getcwd(),\"resources\")\n",
    "    video_recorded = []\n",
    "    for file in os.listdir(filedir):\n",
    "        video_id = file.split(\".\")[0]\n",
    "        video_recorded.append(video_id)\n",
    "    video_annotated = list(sorted(set([i[0] for i in sequence])))\n",
    "    video_data = []\n",
    "    \"\"\" Checking the videos annotated is in the video recorded \"\"\"\n",
    "    for rec in video_recorded:\n",
    "        if rec in video_annotated:\n",
    "            data = []\n",
    "            print(\"Found: {}\".format(rec))\n",
    "            labels = [i for i in seq if i[0] == rec]\n",
    "            labels.sort(key=lambda x: x[3]) ## Sort by frame number\n",
    "            labels = np.asarray(labels)[:,1:].astype('float32')\n",
    "            frames = load_video(filedir, rec + vid_format, False)\n",
    "            prev_frame = 0\n",
    "            frame_labels = []\n",
    "            for idx, label in enumerate(labels):\n",
    "                curr_frame = int(label[2])\n",
    "                if (curr_frame != prev_frame):\n",
    "                    data.append([frames[prev_frame][0], frame_labels])                    \n",
    "                    frame_labels = [label]\n",
    "                elif idx == len(labels) - 1:\n",
    "                    frame_labels.append(label)\n",
    "                    data.append([frames[curr_frame][0],frame_labels])\n",
    "                else:\n",
    "                    frame_labels.append(label)\n",
    "                prev_frame = int(curr_frame)\n",
    "            video_data.append(data)\n",
    "    print(\"Search Complete\")\n",
    "    return video_data    "
   ]
  },
  {
   "cell_type": "code",
   "execution_count": 7,
   "metadata": {},
   "outputs": [],
   "source": [
    "def data_to_np(data):\n",
    "    data_np = np.asarray(data)\n",
    "\n",
    "    x_values = []\n",
    "    y_values = []\n",
    "    for i in range(len(data_np[:,:,0])):\n",
    "        x_np = data_np[:,:,0][i]\n",
    "        x_shape = list(x_np[0].shape)\n",
    "        x_shape[:0] = [len(x_np)]\n",
    "        x_np = np.concatenate(x_np).reshape(x_shape)\n",
    "        x_values.append(x_np)\n",
    "        \n",
    "        y_np = data_np[:,:,1][i]\n",
    "        y_frames = []\n",
    "        for frame_y in y_np:\n",
    "            frame_y = np.asarray(frame_y)\n",
    "            zero_np = np.zeros((16,7))\n",
    "            zero_np[:frame_y.shape[0],:frame_y.shape[1]] = frame_y\n",
    "            y_frames.append(zero_np)\n",
    "        y_values.append(y_frames)\n",
    "        \n",
    "    x_img = np.asarray(x_values)\n",
    "    y_values = np.asarray(y_values)\n",
    "    x_diff = y_values[:, :, :, 5:]\n",
    "    y_cords = y_values[:, :, :, 3:5]\n",
    "    print(\"x_img shape: {}, x_diff shape: {}, y_values shape: {}\".format(x_img.shape, x_diff.shape, y_cords.shape))\n",
    "    return x_img, x_diff, y_cords"
   ]
  },
  {
   "cell_type": "code",
   "execution_count": 8,
   "metadata": {},
   "outputs": [],
   "source": [
    "def normalise_img(x_values):\n",
    "    return x_values / 255"
   ]
  },
  {
   "cell_type": "code",
   "execution_count": 9,
   "metadata": {},
   "outputs": [
    {
     "name": "stdout",
     "output_type": "stream",
     "text": [
      "Loading videos\n",
      "Found: v0-0\n",
      "Found: v0-1\n",
      "Search Complete\n",
      "x_img shape: (2, 150, 720, 1280, 3), x_diff shape: (2, 150, 16, 2), y_values shape: (2, 150, 16, 2)\n"
     ]
    }
   ],
   "source": [
    "seq = load_labels()\n",
    "seq = sort_labels(seq)\n",
    "seq = assign_labels(seq)\n",
    "data = load_data_and_labels(seq)\n",
    "x_img, x_diff, y = data_to_np(data)"
   ]
  },
  {
   "cell_type": "code",
   "execution_count": 10,
   "metadata": {},
   "outputs": [],
   "source": [
    "# need to normalise y values\n",
    "# need to build a model that includes distance and frame diff\n",
    "# model predicting x and y values\n",
    "\n",
    "# going to build model that predicts coords from image"
   ]
  },
  {
   "cell_type": "code",
   "execution_count": 11,
   "metadata": {},
   "outputs": [],
   "source": [
    "def cnn_prepare(x_value, y_value):\n",
    "    x_val = np.reshape(x_value,(x_value.shape[0] * x_value.shape[1], \n",
    "                                x_value.shape[2], \n",
    "                                x_value.shape[3], \n",
    "                                x_value.shape[4]))\n",
    "    y_val = np.reshape(y_value,(y_value.shape[0] * y_value.shape[1], \n",
    "                                y_value.shape[2] * y_value.shape[3]))\n",
    "    return x_val, y_val"
   ]
  },
  {
   "cell_type": "code",
   "execution_count": 12,
   "metadata": {},
   "outputs": [],
   "source": [
    "def split_np(x_data, y_data, percent):\n",
    "    \"\"\" splits a numpy array into testing and training \"\"\"\n",
    "    position = int(len(x_data) * (1-percent))\n",
    "    x_train, x_test = x_data[:position], x_data[position:]\n",
    "    y_train, y_test = y_data[:position], y_data[position:]\n",
    "    return x_train, y_train, x_test, y_test"
   ]
  },
  {
   "cell_type": "code",
   "execution_count": 13,
   "metadata": {},
   "outputs": [],
   "source": [
    "x_cnn, y_cnn = cnn_prepare(x_img, y)\n",
    "x_train, y_train, x_test, y_test = split_np(x_cnn, y_cnn, 0.2)"
   ]
  },
  {
   "cell_type": "code",
   "execution_count": 14,
   "metadata": {},
   "outputs": [
    {
     "name": "stdout",
     "output_type": "stream",
     "text": [
      "x_train shape: (240, 720, 1280, 3), x_test shape: (60, 720, 1280, 3)\n",
      "y_train shape: (240, 32), y_test shape: (60, 32)\n"
     ]
    }
   ],
   "source": [
    "print('x_train shape: {}, x_test shape: {}'.format(x_train.shape,x_test.shape))\n",
    "print('y_train shape: {}, y_test shape: {}'.format(y_train.shape,y_test.shape))"
   ]
  },
  {
   "cell_type": "code",
   "execution_count": 15,
   "metadata": {},
   "outputs": [],
   "source": [
    "input_shape = x_train.shape[1:]\n",
    "output_shape = y_train.shape[1]\n",
    "\n",
    "model = Sequential()\n",
    "model.add(Conv2D(32, kernel_size=(3,3),\n",
    "                activation='relu',\n",
    "                input_shape=input_shape))\n",
    "model.add(Conv2D(64, (3, 3), activation='relu'))\n",
    "model.add(MaxPooling2D(pool_size=(2,2)))\n",
    "\n",
    "model.add(Flatten())\n",
    "model.add(Dense(128, activation='relu'))\n",
    "model.add(Dropout(0.5))\n",
    "model.add(Dense(64, activation='relu'))\n",
    "model.add(Dropout(0.5))\n",
    "model.add(Dense(32, activation='relu'))\n",
    "model.add(Dropout(0.5))\n",
    "model.add(Dense(output_shape))\n",
    "model.compile(loss='mean_squared_error', \n",
    "              optimizer='adam',\n",
    "              metrics=['accuracy'])"
   ]
  },
  {
   "cell_type": "code",
   "execution_count": null,
   "metadata": {},
   "outputs": [
    {
     "name": "stdout",
     "output_type": "stream",
     "text": [
      "Train on 240 samples, validate on 60 samples\n",
      "Epoch 1/1000\n"
     ]
    }
   ],
   "source": [
    "monitor = EarlyStopping(monitor='val_loss', min_delta=1e-3, patience=5, verbose=1, mode='auto')\n",
    "checkpointer = ModelCheckpoint(filepath=\"dnn/tmp_best_weights.hdf5\", verbose=0, save_best_only=True) # save best model\n",
    "\n",
    "batch_size = 128\n",
    "epochs = 1000\n",
    "import time\n",
    "start_time = time.time()\n",
    "\n",
    "model.fit(x_train, y_train,\n",
    "          batch_size=batch_size,\n",
    "          epochs=epochs,\n",
    "          verbose=1,\n",
    "          validation_data=(x_test, y_test),\n",
    "          callbacks=[monitor,checkpointer])\n",
    "model.load_weights('dnn/tmp_best_weights.hdf5') # load weights from best model\n",
    "\n",
    "\n",
    "save_dir = join(os.getcwd(),\"dnn\")\n",
    "save_path = join(save_dir,str(int(start_time)) + \"_cnn.h5\")\n",
    "model.save(save_path)\n",
    "\n",
    "score = model.evaluate(x_test, y_test, verbose=2)\n",
    "print('Test loss: {}'.format(score[0]))\n",
    "print('Test accuracy: {}'.format(score[1]))\n",
    "\n",
    "elapsed_time = time.time() - start_time\n",
    "print(\"Elapsed time: {}\".format(hms_string(elapsed_time)))"
   ]
  },
  {
   "cell_type": "code",
   "execution_count": null,
   "metadata": {},
   "outputs": [],
   "source": []
  }
 ],
 "metadata": {
  "kernelspec": {
   "display_name": "Python 3",
   "language": "python",
   "name": "python3"
  },
  "language_info": {
   "codemirror_mode": {
    "name": "ipython",
    "version": 3
   },
   "file_extension": ".py",
   "mimetype": "text/x-python",
   "name": "python",
   "nbconvert_exporter": "python",
   "pygments_lexer": "ipython3",
   "version": "3.6.4"
  }
 },
 "nbformat": 4,
 "nbformat_minor": 2
}
