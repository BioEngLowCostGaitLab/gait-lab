{
 "cells": [
  {
   "cell_type": "code",
   "execution_count": 1,
   "metadata": {},
   "outputs": [
    {
     "name": "stderr",
     "output_type": "stream",
     "text": [
      "c:\\users\\joear\\appdata\\local\\programs\\python\\python36\\lib\\site-packages\\h5py\\__init__.py:36: FutureWarning: Conversion of the second argument of issubdtype from `float` to `np.floating` is deprecated. In future, it will be treated as `np.float64 == np.dtype(float).type`.\n",
      "  from ._conv import register_converters as _register_converters\n",
      "Using TensorFlow backend.\n"
     ]
    }
   ],
   "source": [
    "import os\n",
    "from os.path import join\n",
    "import sys\n",
    "import cv2 as cv\n",
    "import numpy as np\n",
    "from numpy.random import RandomState\n",
    "import pickle\n",
    "import matplotlib.pyplot as plt\n",
    "\n",
    "import keras\n",
    "from keras.models import Sequential\n",
    "from keras.layers import Dense, Dropout, Flatten\n",
    "from keras.layers import Conv2D, MaxPooling2D\n",
    "from keras import regularizers\n",
    "from keras import backend as K\n",
    "from keras.callbacks import EarlyStopping, ModelCheckpoint"
   ]
  },
  {
   "cell_type": "code",
   "execution_count": 2,
   "metadata": {},
   "outputs": [],
   "source": [
    "def load_labels(specific_video=None):\n",
    "    \"\"\" Loads in image data as numpy arrays \"\"\"\n",
    "    sequence = []\n",
    "    none_count = 0 \n",
    "    filedir = join(os.getcwd(),\"labels\")\n",
    "    for file in os.listdir(filedir):\n",
    "        ## change current seq when video_id change or marker number changes\n",
    "        if file.endswith(\".jpg\"):\n",
    "            file = file.split(\".\")[0]\n",
    "            file = file.split(\"_\")\n",
    "            if specific_video == None:\n",
    "                video_id, marker_num, marker_type, frame_num, x_pos, y_pos = file[0], int(file[1]), int(file[2]), int(file[3]), int(file[4]), int(file[5])\n",
    "                current_seq = [video_id, marker_num, marker_type, frame_num, x_pos, y_pos]\n",
    "                sequence.append(current_seq)\n",
    "            else:\n",
    "                if file[0] == video_id:\n",
    "                    video_id, marker_num, marker_type, frame_num, x_pos, y_pos = file[0], int(file[1]), int(file[2]), int(file[3]), int(file[4]), int(file[5])\n",
    "                    current_seq = [video_id, marker_num, marker_type, frame_num, x_pos, y_pos]\n",
    "                    sequence.append(current_seq)\n",
    "    return sequence"
   ]
  },
  {
   "cell_type": "code",
   "execution_count": 3,
   "metadata": {},
   "outputs": [],
   "source": [
    "def sort_labels(sequence):\n",
    "    sequence.sort(key=lambda x: x[3]) ## Sort by frame number\n",
    "    sequence.sort(key=lambda x: x[1]) ## Sort by marker_num\n",
    "    sequence.sort(key=lambda x: x[0]) ## Sort by video_name\n",
    "    return sequence"
   ]
  },
  {
   "cell_type": "code",
   "execution_count": 4,
   "metadata": {},
   "outputs": [],
   "source": [
    "def load_video(video_path, video_name, flip, display = False): ## Convert 3rd element in video name into flip\n",
    "    width, height = 960, 540\n",
    "    cap = cv.VideoCapture(join(video_path,video_name))\n",
    "    ret, frame = cap.read()\n",
    "    if (flip):\n",
    "        frame = cv.flip(frame, 0)\n",
    "    clone = cv.resize(frame, (width,height))\n",
    "    if (display):\n",
    "        cv.namedWindow(\"Video\")\n",
    "    frame_num = 0\n",
    "    frames = []\n",
    "    while (ret):\n",
    "        if (display):\n",
    "            cv.imshow(\"Video\", clone)\n",
    "        frames.append( [frame, frame_num] )\n",
    "        if (display):\n",
    "            key = cv.waitKey(0)\n",
    "            if key == 113:\n",
    "                break\n",
    "        ret, frame = cap.read()\n",
    "        if (ret):\n",
    "            frame_num += 1\n",
    "            if (flip):\n",
    "                frame = cv.flip(frame, 0)\n",
    "            clone = cv.resize(frame, (width, height))\n",
    "    cap.release()\n",
    "    if (display):\n",
    "        cv.destroyAllWindows()\n",
    "    return frames"
   ]
  },
  {
   "cell_type": "code",
   "execution_count": 28,
   "metadata": {},
   "outputs": [],
   "source": [
    "def load_data_and_labels(sequence, vid_format=\".avi\"):\n",
    "    filedir = join(os.getcwd(),\"resources\")\n",
    "    video_recorded = []\n",
    "    for file in os.listdir(filedir):\n",
    "        video_id = file.split(\".\")[0]\n",
    "        video_recorded.append(video_id)\n",
    "    video_annotated = list(sorted(set([i[0] for i in sequence])))\n",
    "    video_data = []\n",
    "    \"\"\" Checking the videos annotated is in the video recorded \"\"\"\n",
    "    for rec in video_recorded:\n",
    "        if rec in video_annotated:\n",
    "            data = []\n",
    "            print(\"Found: {}\".format(rec))\n",
    "            labels = [i for i in seq if i[0] == rec]\n",
    "            labels.sort(key=lambda x: x[3]) ## Sort by frame number\n",
    "            \n",
    "            labels = np.asarray(labels)[:,1:].astype('float32')\n",
    "            frames = load_video(filedir, rec + vid_format, False)\n",
    "            \n",
    "            prev_frame = 0\n",
    "            frame_labels = []\n",
    "            for idx, label in enumerate(labels):\n",
    "                curr_frame = int(label[2])\n",
    "                if (curr_frame != prev_frame):\n",
    "                    data.append([frames[curr_frame], frame_labels])                    \n",
    "                    frame_labels = [label]\n",
    "                elif idx == len(labels) - 1:\n",
    "                    frame_labels.append(label)\n",
    "                    data.append([frames[curr_frame],frame_labels])\n",
    "                else:\n",
    "                    frame_labels.append(label)\n",
    "                prev_frame = int(curr_frame)\n",
    "            video_data.append(data)\n",
    "    return video_data    "
   ]
  },
  {
   "cell_type": "code",
   "execution_count": 29,
   "metadata": {},
   "outputs": [
    {
     "name": "stdout",
     "output_type": "stream",
     "text": [
      "Found: v0-0\n",
      "Found: v0-1\n"
     ]
    }
   ],
   "source": [
    "seq = load_labels()\n",
    "seq = sort_labels(seq)\n",
    "data = load_data_and_labels(seq)"
   ]
  },
  {
   "cell_type": "code",
   "execution_count": null,
   "metadata": {},
   "outputs": [],
   "source": []
  }
 ],
 "metadata": {
  "kernelspec": {
   "display_name": "Python 3",
   "language": "python",
   "name": "python3"
  },
  "language_info": {
   "codemirror_mode": {
    "name": "ipython",
    "version": 3
   },
   "file_extension": ".py",
   "mimetype": "text/x-python",
   "name": "python",
   "nbconvert_exporter": "python",
   "pygments_lexer": "ipython3",
   "version": "3.6.4"
  }
 },
 "nbformat": 4,
 "nbformat_minor": 2
}
