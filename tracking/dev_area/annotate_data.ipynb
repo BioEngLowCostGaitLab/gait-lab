{
 "cells": [
  {
   "cell_type": "code",
   "execution_count": null,
   "metadata": {},
   "outputs": [],
   "source": [
    "import os\n",
    "from os.path import join\n",
    "import sys\n",
    "import cv2 as cv\n",
    "import numpy as np\n",
    "import time"
   ]
  },
  {
   "cell_type": "code",
   "execution_count": null,
   "metadata": {},
   "outputs": [],
   "source": [
    "def time_stamp():\n",
    "    return str(\"%.3f\" % round(time.time(),2)).replace(\".\",\"-\")"
   ]
  },
  {
   "cell_type": "code",
   "execution_count": null,
   "metadata": {},
   "outputs": [],
   "source": [
    "def annotate_frame(event,x,y,flags,params):\n",
    "    if (event == cv.EVENT_LBUTTONDOWN) or (event == cv.EVENT_RBUTTONDOWN):\n",
    "        global next_frame, marker_in_frame, pts\n",
    "        next_frame = True\n",
    "        if (event == cv.EVENT_LBUTTONDOWN):\n",
    "            marker_in_frame = True\n",
    "            pts[0], pts[1] = x, y"
   ]
  },
  {
   "cell_type": "code",
   "execution_count": null,
   "metadata": {},
   "outputs": [],
   "source": [
    "## ball_type: 0 = no ball, 1 = white, 2 = yellow\n",
    "next_frame = False\n",
    "marker_in_frame = False\n",
    "pts = [-1,-1]\n",
    "\n",
    "def classify_video(video_path, video_name, save_path, width = 960, height = 540, roi_size = 25, flip = True):\n",
    "    global next_frame, marker_in_frame, pts\n",
    "    \n",
    "    video_id = video_name.split(\".\")[0]\n",
    "    \n",
    "    markers = int(input(\"How many markers are there? \"))\n",
    "    \n",
    "    print(\"Starting loop through markers...\")\n",
    "    print(\"Please follow the same marker through the video\")\n",
    "    \n",
    "    ball_num = 0\n",
    "    \n",
    "    \n",
    "    while ball_num <= markers - 1:\n",
    "        print(\"{} out of {}\".format(ball_num, markers - 1))\n",
    "        frame_num = 0\n",
    "    \n",
    "        cap = cv.VideoCapture(join(video_path,video_name))\n",
    "        ret, frame = cap.read()\n",
    "        clone = cv.resize(frame, (width,height))\n",
    "        if(flip): \n",
    "            clone = cv.flip(clone, 0)\n",
    "        cv.namedWindow(\"Video\")\n",
    "        cv.setMouseCallback(\"Video\", annotate_frame)\n",
    "        \n",
    "        ball_type = input(\"Which ball type are you classifying (1 = white, 2 = yellow)? \")\n",
    "        \n",
    "        ## Loop through the video and classify the same ball\n",
    "        while ret:\n",
    "            cv.imshow(\"Video\", clone)\n",
    "            key = cv.waitKey(1)\n",
    "\n",
    "            if (key == 113):\n",
    "                break\n",
    "\n",
    "            if (next_frame):\n",
    "                next_frame = False\n",
    "                if (marker_in_frame):\n",
    "                    marker_in_frame = False\n",
    "                    roi = clone[pts[1] - roi_size : pts[1] + roi_size, \n",
    "                                pts[0] - roi_size : pts[0] + roi_size]\n",
    "                    save_name = str(video_id + \"_\" \n",
    "                                    + str(ball_num) + \"_\" \n",
    "                                    + str(ball_type) + \"_\" \n",
    "                                    + str(frame_num) + \"_\" \n",
    "                                    + str(pts[0]) + \"_\"     ## x\n",
    "                                    + str(pts[1]))          ## y\n",
    "                    cv.imwrite(join(save_path, save_name + \".jpg\"), roi)\n",
    "                print(frame_num, ret)\n",
    "                ret, frame = cap.read()\n",
    "                if ret:\n",
    "                    frame_num += 1\n",
    "                    clone = cv.resize(frame, (width, height))\n",
    "                    if(flip): \n",
    "                        clone = cv.flip(clone, 0)\n",
    "        cap.release()\n",
    "        cv.destroyAllWindows()\n",
    "        ball_num += 1\n",
    "        print(\"Completed marker\")\n",
    "        \n",
    "    print(\"Completed all markers in video\")"
   ]
  },
  {
   "cell_type": "code",
   "execution_count": null,
   "metadata": {},
   "outputs": [],
   "source": [
    "video_path = join(os.getcwd(),\"resources\")\n",
    "video_name = \"v0-0.avi\"\n",
    "save_path = join(os.getcwd(),\"labels\")\n",
    "classify_video(video_path, video_name, save_path, width = int(960 * 1.8), height = int(540 * 1.8), flip = False)"
   ]
  },
  {
   "cell_type": "code",
   "execution_count": null,
   "metadata": {},
   "outputs": [],
   "source": []
  }
 ],
 "metadata": {
  "kernelspec": {
   "display_name": "Python 3",
   "language": "python",
   "name": "python3"
  },
  "language_info": {
   "codemirror_mode": {
    "name": "ipython",
    "version": 3
   },
   "file_extension": ".py",
   "mimetype": "text/x-python",
   "name": "python",
   "nbconvert_exporter": "python",
   "pygments_lexer": "ipython3",
   "version": "3.6.4"
  }
 },
 "nbformat": 4,
 "nbformat_minor": 2
}
